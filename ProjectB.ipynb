{
 "cells": [
  {
   "cell_type": "markdown",
   "metadata": {},
   "source": [
    "Link to website: https://albert-moller.github.io\n",
    "\n",
    "Link to explainer notebook: https://github.com/albert-moller/albert-moller.github.io\n",
    "\n",
    "Group members: Albert Frisch Møller (s214610) and Mark Andrawes (s214654)\n",
    "\n",
    "For this final assignment each group member contributed equally to every aspect of the assignment"
   ]
  },
  {
   "cell_type": "markdown",
   "metadata": {},
   "source": [
    "# **Explainer Notebook**"
   ]
  },
  {
   "cell_type": "markdown",
   "metadata": {},
   "source": [
    "## **Motivation**"
   ]
  },
  {
   "cell_type": "markdown",
   "metadata": {},
   "source": [
    "Our dataset contains all tweets made by the US Senators during the first year of the Biden administration (2021). We chose this particular dataset as we wanted to explore the communities within the US Senate, as well as the topics being discussed within them. The structure of this dataset allows us to explore this, as it provides a way to understand the relationships between the US Senators through social media interactions. Our goal for the end user's experience is to..."
   ]
  },
  {
   "cell_type": "markdown",
   "metadata": {},
   "source": [
    "## **Basic stats**"
   ]
  },
  {
   "cell_type": "markdown",
   "metadata": {},
   "source": [
    "To understand the dataset better, we will load the dataset into Pandas DataFrame and display a sample:"
   ]
  },
  {
   "cell_type": "code",
   "execution_count": 4,
   "metadata": {},
   "outputs": [
    {
     "data": {
      "text/html": [
       "<div>\n",
       "<style scoped>\n",
       "    .dataframe tbody tr th:only-of-type {\n",
       "        vertical-align: middle;\n",
       "    }\n",
       "\n",
       "    .dataframe tbody tr th {\n",
       "        vertical-align: top;\n",
       "    }\n",
       "\n",
       "    .dataframe thead th {\n",
       "        text-align: right;\n",
       "    }\n",
       "</style>\n",
       "<table border=\"1\" class=\"dataframe\">\n",
       "  <thead>\n",
       "    <tr style=\"text-align: right;\">\n",
       "      <th></th>\n",
       "      <th>date</th>\n",
       "      <th>id</th>\n",
       "      <th>username</th>\n",
       "      <th>text</th>\n",
       "      <th>party</th>\n",
       "      <th>labels</th>\n",
       "      <th>embeddings</th>\n",
       "    </tr>\n",
       "  </thead>\n",
       "  <tbody>\n",
       "    <tr>\n",
       "      <th>0</th>\n",
       "      <td>2021-10-13 19:47:44</td>\n",
       "      <td>1448374915636383745</td>\n",
       "      <td>SenatorHassan</td>\n",
       "      <td>Happy th birthday to the @USNavy! The strength...</td>\n",
       "      <td>Democrat</td>\n",
       "      <td>1</td>\n",
       "      <td>[-0.026915843, 0.087234065, 0.018707331, -0.03...</td>\n",
       "    </tr>\n",
       "    <tr>\n",
       "      <th>1</th>\n",
       "      <td>2021-06-30 14:53:13</td>\n",
       "      <td>1410250073003462656</td>\n",
       "      <td>SenatorMenendez</td>\n",
       "      <td>The greatest generation's investment in infras...</td>\n",
       "      <td>Democrat</td>\n",
       "      <td>1</td>\n",
       "      <td>[0.024044158, -0.0048382296, 0.09699756, -0.03...</td>\n",
       "    </tr>\n",
       "    <tr>\n",
       "      <th>2</th>\n",
       "      <td>2021-08-08 01:11:29</td>\n",
       "      <td>1424176405881966599</td>\n",
       "      <td>SenBillCassidy</td>\n",
       "      <td>Thanks to @SenTedCruz and  @SenatorWarnock, th...</td>\n",
       "      <td>Republican</td>\n",
       "      <td>0</td>\n",
       "      <td>[-0.002620128, -0.042515174, 0.065084696, 0.01...</td>\n",
       "    </tr>\n",
       "    <tr>\n",
       "      <th>3</th>\n",
       "      <td>2021-04-14 14:02:49</td>\n",
       "      <td>1382333523567185921</td>\n",
       "      <td>SenBlumenthal</td>\n",
       "      <td>/ To get lasting change we cant just lock up t...</td>\n",
       "      <td>Democrat</td>\n",
       "      <td>1</td>\n",
       "      <td>[-0.045103785, 0.0762336, -0.011798679, -0.044...</td>\n",
       "    </tr>\n",
       "    <tr>\n",
       "      <th>4</th>\n",
       "      <td>2021-12-11 16:06:38</td>\n",
       "      <td>1469700160934621188</td>\n",
       "      <td>SenatorBraun</td>\n",
       "      <td>Today were celebrating years of the Hoosier st...</td>\n",
       "      <td>Republican</td>\n",
       "      <td>0</td>\n",
       "      <td>[-0.038810886, 0.11611319, 0.06621017, -0.0184...</td>\n",
       "    </tr>\n",
       "  </tbody>\n",
       "</table>\n",
       "</div>"
      ],
      "text/plain": [
       "                  date                   id         username  \\\n",
       "0  2021-10-13 19:47:44  1448374915636383745    SenatorHassan   \n",
       "1  2021-06-30 14:53:13  1410250073003462656  SenatorMenendez   \n",
       "2  2021-08-08 01:11:29  1424176405881966599   SenBillCassidy   \n",
       "3  2021-04-14 14:02:49  1382333523567185921    SenBlumenthal   \n",
       "4  2021-12-11 16:06:38  1469700160934621188     SenatorBraun   \n",
       "\n",
       "                                                text       party  labels  \\\n",
       "0  Happy th birthday to the @USNavy! The strength...    Democrat       1   \n",
       "1  The greatest generation's investment in infras...    Democrat       1   \n",
       "2  Thanks to @SenTedCruz and  @SenatorWarnock, th...  Republican       0   \n",
       "3  / To get lasting change we cant just lock up t...    Democrat       1   \n",
       "4  Today were celebrating years of the Hoosier st...  Republican       0   \n",
       "\n",
       "                                          embeddings  \n",
       "0  [-0.026915843, 0.087234065, 0.018707331, -0.03...  \n",
       "1  [0.024044158, -0.0048382296, 0.09699756, -0.03...  \n",
       "2  [-0.002620128, -0.042515174, 0.065084696, 0.01...  \n",
       "3  [-0.045103785, 0.0762336, -0.011798679, -0.044...  \n",
       "4  [-0.038810886, 0.11611319, 0.06621017, -0.0184...  "
      ]
     },
     "execution_count": 4,
     "metadata": {},
     "output_type": "execute_result"
    }
   ],
   "source": [
    "from datasets import load_dataset, concatenate_datasets\n",
    "import pandas as pd\n",
    "\n",
    "dataset = load_dataset('m-newhauser/senator-tweets')\n",
    "datasets_to_combine = [dataset[split] for split in dataset.keys()]\n",
    "combined_dataset = concatenate_datasets(datasets_to_combine)\n",
    "df = combined_dataset.to_pandas()\n",
    "\n",
    "df.head()"
   ]
  },
  {
   "cell_type": "markdown",
   "metadata": {},
   "source": [
    "The sample above contains the first five rows of the dataset. As shown, it contains the following columns: date, id, username, text, party, labels, and embeddings. Below is a brief description of what each of these columns contains:\n",
    "\n",
    "**date**: Time and day of when the tweet was posted.  \n",
    "**id**: A unique tweet identifier.  \n",
    "**Username**: The username of the senator who posted the tweet.  \n",
    "**text**: The tweet text.  \n",
    "**party**: The party of the Senator who posted the tweet.  \n",
    "**labels**: Provides the same information as party - \"0\" indicates the senator is a Republican, \"1\" indicates the Senator is a Democrat.  \n",
    "**embeddings**: A list of embeddings for the tweet.  \n",
    "\n",
    "### **Data cleaning and preprocessing**  \n",
    "Seeing as the 'labels' column provides the same information as the 'party' column, the 'labels' column will be removed. Additionally, the 'embeddings' column will be removed as it will not be used in the analysis."
   ]
  },
  {
   "cell_type": "code",
   "execution_count": 6,
   "metadata": {},
   "outputs": [
    {
     "data": {
      "text/html": [
       "<div>\n",
       "<style scoped>\n",
       "    .dataframe tbody tr th:only-of-type {\n",
       "        vertical-align: middle;\n",
       "    }\n",
       "\n",
       "    .dataframe tbody tr th {\n",
       "        vertical-align: top;\n",
       "    }\n",
       "\n",
       "    .dataframe thead th {\n",
       "        text-align: right;\n",
       "    }\n",
       "</style>\n",
       "<table border=\"1\" class=\"dataframe\">\n",
       "  <thead>\n",
       "    <tr style=\"text-align: right;\">\n",
       "      <th></th>\n",
       "      <th>date</th>\n",
       "      <th>id</th>\n",
       "      <th>username</th>\n",
       "      <th>text</th>\n",
       "      <th>party</th>\n",
       "    </tr>\n",
       "  </thead>\n",
       "  <tbody>\n",
       "    <tr>\n",
       "      <th>0</th>\n",
       "      <td>2021-10-13 19:47:44</td>\n",
       "      <td>1448374915636383745</td>\n",
       "      <td>SenatorHassan</td>\n",
       "      <td>Happy th birthday to the @USNavy! The strength...</td>\n",
       "      <td>Democrat</td>\n",
       "    </tr>\n",
       "    <tr>\n",
       "      <th>1</th>\n",
       "      <td>2021-06-30 14:53:13</td>\n",
       "      <td>1410250073003462656</td>\n",
       "      <td>SenatorMenendez</td>\n",
       "      <td>The greatest generation's investment in infras...</td>\n",
       "      <td>Democrat</td>\n",
       "    </tr>\n",
       "    <tr>\n",
       "      <th>2</th>\n",
       "      <td>2021-08-08 01:11:29</td>\n",
       "      <td>1424176405881966599</td>\n",
       "      <td>SenBillCassidy</td>\n",
       "      <td>Thanks to @SenTedCruz and  @SenatorWarnock, th...</td>\n",
       "      <td>Republican</td>\n",
       "    </tr>\n",
       "    <tr>\n",
       "      <th>3</th>\n",
       "      <td>2021-04-14 14:02:49</td>\n",
       "      <td>1382333523567185921</td>\n",
       "      <td>SenBlumenthal</td>\n",
       "      <td>/ To get lasting change we cant just lock up t...</td>\n",
       "      <td>Democrat</td>\n",
       "    </tr>\n",
       "    <tr>\n",
       "      <th>4</th>\n",
       "      <td>2021-12-11 16:06:38</td>\n",
       "      <td>1469700160934621188</td>\n",
       "      <td>SenatorBraun</td>\n",
       "      <td>Today were celebrating years of the Hoosier st...</td>\n",
       "      <td>Republican</td>\n",
       "    </tr>\n",
       "  </tbody>\n",
       "</table>\n",
       "</div>"
      ],
      "text/plain": [
       "                  date                   id         username  \\\n",
       "0  2021-10-13 19:47:44  1448374915636383745    SenatorHassan   \n",
       "1  2021-06-30 14:53:13  1410250073003462656  SenatorMenendez   \n",
       "2  2021-08-08 01:11:29  1424176405881966599   SenBillCassidy   \n",
       "3  2021-04-14 14:02:49  1382333523567185921    SenBlumenthal   \n",
       "4  2021-12-11 16:06:38  1469700160934621188     SenatorBraun   \n",
       "\n",
       "                                                text       party  \n",
       "0  Happy th birthday to the @USNavy! The strength...    Democrat  \n",
       "1  The greatest generation's investment in infras...    Democrat  \n",
       "2  Thanks to @SenTedCruz and  @SenatorWarnock, th...  Republican  \n",
       "3  / To get lasting change we cant just lock up t...    Democrat  \n",
       "4  Today were celebrating years of the Hoosier st...  Republican  "
      ]
     },
     "execution_count": 6,
     "metadata": {},
     "output_type": "execute_result"
    }
   ],
   "source": [
    "df = df.drop(['labels', 'embeddings'], axis=1)\n",
    "df.head()"
   ]
  },
  {
   "cell_type": "markdown",
   "metadata": {},
   "source": [
    "### **Dataset stats**\n",
    "Having preprocessed the data, let us now investigate the basic properties of the dataset. This includes the number of rows (corresponding to the number of tweets), the number of unique usernames (corresponding to the number of senators), and the number of democrats and republicans. "
   ]
  },
  {
   "cell_type": "code",
   "execution_count": 10,
   "metadata": {},
   "outputs": [
    {
     "name": "stdout",
     "output_type": "stream",
     "text": [
      "Number of rows (tweets):  99693\n",
      "Number of unique usernames (senators):  99\n",
      "Number of senators that are Democrats:  50\n",
      "Number of senators that are Republicans:  49\n"
     ]
    }
   ],
   "source": [
    "print(\"Number of rows (tweets): \", len(df))\n",
    "print(\"Number of unique usernames (senators): \", len(df['username'].unique()))\n",
    "print(\"Number of senators that are Democrats: \", len(df[df['party'] == 'Democrat']['username'].unique()))\n",
    "print(\"Number of senators that are Republicans: \", len(df[df['party'] == 'Republican']['username'].unique()))"
   ]
  },
  {
   "cell_type": "markdown",
   "metadata": {},
   "source": [
    "As shown above, the dataset contains 99693 tweets, posted by a total of 99 senators. Out of these senators, 50 were Democrats and 49 were Republicans."
   ]
  },
  {
   "cell_type": "markdown",
   "metadata": {},
   "source": [
    "## **Tools, theory and analysis**"
   ]
  },
  {
   "cell_type": "markdown",
   "metadata": {},
   "source": [
    "### **Building the network**"
   ]
  },
  {
   "cell_type": "markdown",
   "metadata": {},
   "source": [
    "Having gained a good understanding of the dataset, we will now use it to build a network using the networkx library. The network will consist of nodes representing the senators, and edges representing mentions within the tweets. So, if a senator mentions another in a tweet, an edge is created between them. It is important to note that the edges are weighted and that each node has a 'party' attribute corresponding to their party.  \n",
    "\n",
    "Seeing as many of the mentions in the tweets are not related to another senator, the text within the tweets were split by '@' and each split was checked against the usernames of the senators. "
   ]
  },
  {
   "cell_type": "code",
   "execution_count": 12,
   "metadata": {},
   "outputs": [],
   "source": [
    "#Build the US Senate twitter network\n",
    "from collections import defaultdict\n",
    "import networkx as nx\n",
    "G = nx.Graph()\n",
    "edges = defaultdict(int)\n",
    "\n",
    "for index, row in df.iterrows():\n",
    "    sender = row['username']\n",
    "    text = row['text']\n",
    "    unique_usernames = set(df['username'].unique())\n",
    "    \n",
    "    tokens = text.split('@')[1:] \n",
    "    \n",
    "    for token in tokens:\n",
    "        potential_username = token.split()[0] if ' ' in token else token\n",
    "        if potential_username in unique_usernames and potential_username != sender:\n",
    "            edge = tuple(sorted((sender, potential_username)))\n",
    "            edges[edge] += 1\n",
    "\n",
    "for (source, target), weight in edges.items():\n",
    "    G.add_edge(source, target, weight=weight)\n",
    "\n",
    "for node in G.nodes:\n",
    "    party = df[df['username'] == node]['party'].values[0]\n",
    "    G.nodes[node]['party'] = party"
   ]
  },
  {
   "cell_type": "markdown",
   "metadata": {},
   "source": [
    "### **Basic stats about the network**\n",
    "Having built the network, we find the number of nodes and the number of edges. Additionally, the probability of an edge existing betwen any two nodes in the graph is found using Equation 3.2 from Chapter 3, and the average degree of the nodes in the graph was calculated using Equation 3.3 from Chapter 3. "
   ]
  },
  {
   "cell_type": "code",
   "execution_count": 13,
   "metadata": {},
   "outputs": [
    {
     "name": "stdout",
     "output_type": "stream",
     "text": [
      "Number of nodes: 99\n",
      "Number of edges: 1608\n",
      "Probability p is 0.33147804576376005\n",
      "Average degree <k> is 32.484848484848484\n"
     ]
    }
   ],
   "source": [
    "node_count_real = G.number_of_nodes()\n",
    "edge_count_real = G.number_of_edges()\n",
    "\n",
    "print(f\"Number of nodes: {node_count_real}\")\n",
    "print(f\"Number of edges: {edge_count_real}\")\n",
    "\n",
    "#Calculate p using the formula p = 2*<L>/(N*(N-1)) obtained by isolating for p in equation 3.2 from Chapter 3\n",
    "p = 2 * edge_count_real / (node_count_real*(node_count_real-1))\n",
    "print(f\"Probability p is {p}\")\n",
    "\n",
    "#Calculate the average degree using the formula <k> = p*(N-1) (equation 3.3 from Chapter 3)\n",
    "average_degree = p*(node_count_real-1)\n",
    "print(f\"Average degree <k> is {average_degree}\")"
   ]
  },
  {
   "cell_type": "markdown",
   "metadata": {},
   "source": [
    "As expected, the graph contains 99 nodes corresponding to the 99 senators in the dataset, and the graph contains 1608 edges in total. The probability of an edge existing between two given nodes was found to be 0.33, and the average degree was found to be 32.5."
   ]
  },
  {
   "cell_type": "markdown",
   "metadata": {},
   "source": [
    "### **Building a random network**\n",
    "To be able to understanding the properties about the network better, we can compare them to those of a random network that contains the same number of nodes. We build this random network below:"
   ]
  },
  {
   "cell_type": "code",
   "execution_count": 16,
   "metadata": {},
   "outputs": [],
   "source": [
    "import numpy as np\n",
    "def random_network(N, p):\n",
    "    G = nx.Graph()\n",
    "    G.add_nodes_from(range(N))\n",
    "    for i in range(N):\n",
    "        for j in range(i+1,N):\n",
    "            if np.random.uniform(0,1) < p:\n",
    "                G.add_edge(i,j)\n",
    "    return G\n",
    "\n",
    "G_random = random_network(node_count_real, p)"
   ]
  },
  {
   "cell_type": "markdown",
   "metadata": {},
   "source": [
    "### **Visualizing the networks**\n",
    "Having built our Senator network and a random network for comparison, we can visualize both using the netwulf package:"
   ]
  },
  {
   "cell_type": "code",
   "execution_count": 7,
   "metadata": {},
   "outputs": [
    {
     "data": {
      "text/plain": [
       "(None, None)"
      ]
     },
     "execution_count": 7,
     "metadata": {},
     "output_type": "execute_result"
    }
   ],
   "source": [
    "#Visualizing the networks\n",
    "import netwulf as nw\n",
    "nw.visualize(G)\n",
    "nw.visualize(G_random)"
   ]
  },
  {
   "cell_type": "markdown",
   "metadata": {},
   "source": [
    "### **Comparing the networks**\n",
    "We compare the connected components of the two networks, as well as the number of isolated nodes:"
   ]
  },
  {
   "cell_type": "code",
   "execution_count": 17,
   "metadata": {},
   "outputs": [
    {
     "name": "stdout",
     "output_type": "stream",
     "text": [
      "Size of the largest connected component (random network) is 99\n",
      "Size of the largest connected component (real network) is 99\n",
      "Number of isolated nodes in the random network: 0\n",
      "Number of isolated nodes in the real network: 0\n"
     ]
    }
   ],
   "source": [
    "connected_components = list(nx.connected_components(G_random))\n",
    "largest_connected_component = max(connected_components, key = len)\n",
    "largest_subgraph_random = G_random.subgraph(largest_connected_component)\n",
    "\n",
    "connected_components = list(nx.connected_components(G))\n",
    "largest_connected_component = max(connected_components, key = len)\n",
    "largest_subgraph_real = G.subgraph(largest_connected_component)\n",
    "\n",
    "#Compute size of the largest connected component\n",
    "print(f\"Size of the largest connected component (random network) is {largest_subgraph_random.number_of_nodes()}\")\n",
    "print(f\"Size of the largest connected component (real network) is {largest_subgraph_real.number_of_nodes()}\")\n",
    "\n",
    "#Compute the number of isolated components\n",
    "isolated_n = list(nx.isolates(G_random))\n",
    "number_of_isolated_nodes = len(isolated_n)\n",
    "print(f\"Number of isolated nodes in the random network: {number_of_isolated_nodes}\")\n",
    "\n",
    "isolated_n = list(nx.isolates(G))\n",
    "number_of_isolated_nodes = len(isolated_n)\n",
    "print(f\"Number of isolated nodes in the real network: {number_of_isolated_nodes}\")"
   ]
  },
  {
   "cell_type": "markdown",
   "metadata": {},
   "source": [
    "From this, we see that both the random network and the Senators network are fully connected, as the larged connected component involves all 99 nodes in both networks. Thus, both networks also contains no isolated nodes.  \n",
    "\n",
    "We now investigate the degree distributions of the two networks:"
   ]
  },
  {
   "cell_type": "code",
   "execution_count": 18,
   "metadata": {},
   "outputs": [
    {
     "data": {
      "image/png": "[encoded data removed]",
      "text/plain": [
       "<Figure size 1000x600 with 1 Axes>"
      ]
     },
     "metadata": {},
     "output_type": "display_data"
    }
   ],
   "source": [
    "import matplotlib.pyplot as plt\n",
    "\n",
    "#Compute degree distribution for the random network:\n",
    "node_degrees_random = [degree for node, degree in G_random.degree()]\n",
    "max_node_degree = max(node_degrees_random)\n",
    "min_node_degree = min(node_degrees_random)\n",
    "bins = np.linspace(min_node_degree, max_node_degree, 20)\n",
    "degree_distribution_random, edges_random = np.histogram(node_degrees_random, bins=bins, density=True)\n",
    "\n",
    "#Compute degree distribution for the real network:\n",
    "node_degrees_real = [degree for node, degree in G.degree()]\n",
    "max_node_degree = max(node_degrees_real)\n",
    "min_node_degree = min(node_degrees_real)\n",
    "bins = np.linspace(min_node_degree, max_node_degree, 20)\n",
    "degree_distribution_real, edges_real = np.histogram(node_degrees_real, bins=bins, density=True)\n",
    "\n",
    "# Plot both degree distributions on the same figure using line plots\n",
    "plt.figure(figsize=(10, 6))\n",
    "plt.plot(edges_random[:-1], degree_distribution_random, linestyle='-', marker='o', label='Random Network')\n",
    "plt.plot(edges_real[:-1], degree_distribution_real, linestyle='-', marker='x', label='US Senators Twitter Network')\n",
    "avg_degree_random = np.mean(node_degrees_random)\n",
    "avg_degree_actual = np.mean(node_degrees_real)\n",
    "plt.axvline(avg_degree_random, color='blue', linestyle='dashed', linewidth=1, label='Avg Degree (Random)')\n",
    "plt.axvline(avg_degree_actual, color='orange', linestyle='dashed', linewidth=2, label='Avg Degree (Actual)')\n",
    "plt.xlabel('Node Degree')\n",
    "plt.ylabel('Log Probability Density')\n",
    "#plt.xscale('log')\n",
    "plt.yscale('log')\n",
    "plt.title('Degree Distributions')\n",
    "plt.legend()\n",
    "plt.grid(True)"
   ]
  },
  {
   "cell_type": "markdown",
   "metadata": {},
   "source": [
    "### **Assortativity based on political party**\n",
    "To investigate how the political party attribute of the nodes influences the formation of links within the Senator network, we calculate the assortativity coefficient based on the party attribute:"
   ]
  },
  {
   "cell_type": "code",
   "execution_count": 19,
   "metadata": {},
   "outputs": [
    {
     "name": "stdout",
     "output_type": "stream",
     "text": [
      "Assortativity coefficient based on party attribute: 0.262\n"
     ]
    }
   ],
   "source": [
    "def assortativity_coeffecient(G, attribute: str):\n",
    "    attribute_dict = nx.get_node_attributes(G, attribute)\n",
    "    assert len(attribute_dict) == G.number_of_nodes()\n",
    "    attributes = list(set(attribute_dict.values()))\n",
    "    attribute_indices = {attr: i for i, attr in enumerate(attributes)}\n",
    "    e = np.zeros((len(attributes), len(attributes)))\n",
    "\n",
    "    for a, b in G.edges():\n",
    "        index_a = attribute_indices[attribute_dict[a]]\n",
    "        index_b = attribute_indices[attribute_dict[b]]\n",
    "        e[index_a][index_b] += 1\n",
    "        e[index_b][index_a] += 1\n",
    "    \n",
    "    e = e / e.sum()\n",
    "    a, b = e.sum(axis=1), e.sum(axis=0)\n",
    "    r = (np.sum(np.diag(e)) - np.sum(a * b)) / (1 - np.sum(a * b))\n",
    "    return r \n",
    "        \n",
    "r = assortativity_coeffecient(G, \"party\")\n",
    "print(\"Assortativity coefficient based on party attribute:\", round(r,3))"
   ]
  },
  {
   "cell_type": "markdown",
   "metadata": {},
   "source": [
    "An assortativity coefficient of 0.262 based on the party attribute, in the context of the Senator network, indicates that there is a moderate tendency towards forming links within the same polticial party, but there are still a significant number of links across the two parties. "
   ]
  },
  {
   "cell_type": "markdown",
   "metadata": {},
   "source": [
    "### **Finding communities in the Senator network**"
   ]
  },
  {
   "cell_type": "code",
   "execution_count": 51,
   "metadata": {},
   "outputs": [],
   "source": [
    "from networkx.algorithms.community import louvain_communities\n",
    "communities = louvain_communities(G)\n",
    "num_communities = len(communities)\n",
    "community_sizes = [len(c) for c in communities]\n",
    "modularity = nx.algorithms.community.quality.modularity(G, communities)"
   ]
  },
  {
   "cell_type": "code",
   "execution_count": 52,
   "metadata": {},
   "outputs": [
    {
     "data": {
      "text/plain": [
       "[2, 13, 27, 8, 41, 8]"
      ]
     },
     "execution_count": 52,
     "metadata": {},
     "output_type": "execute_result"
    }
   ],
   "source": [
    "community_sizes "
   ]
  }
 ],
 "metadata": {
  "kernelspec": {
   "display_name": "markDD",
   "language": "python",
   "name": "markdd"
  },
  "language_info": {
   "codemirror_mode": {
    "name": "ipython",
    "version": 3
   },
   "file_extension": ".py",
   "mimetype": "text/x-python",
   "name": "python",
   "nbconvert_exporter": "python",
   "pygments_lexer": "ipython3",
   "version": "3.10.12"
  }
 },
 "nbformat": 4,
 "nbformat_minor": 2
}
