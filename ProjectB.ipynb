{
 "cells": [
  {
   "cell_type": "markdown",
   "metadata": {},
   "source": [
    "# Importing all relevant libraries"
   ]
  },
  {
   "cell_type": "code",
   "execution_count": 20,
   "metadata": {},
   "outputs": [],
   "source": [
    "from datasets import load_dataset, concatenate_datasets\n",
    "import pandas as pd\n",
    "import networkx as nx\n",
    "import matplotlib.pyplot as plt\n",
    "import numpy as np\n",
    "from collections import defaultdict\n",
    "import netwulf as nw"
   ]
  },
  {
   "cell_type": "markdown",
   "metadata": {},
   "source": [
    "# Load dataset from Hugging Face"
   ]
  },
  {
   "cell_type": "code",
   "execution_count": 4,
   "metadata": {},
   "outputs": [],
   "source": [
    "dataset = load_dataset('m-newhauser/senator-tweets')"
   ]
  },
  {
   "cell_type": "code",
   "execution_count": 5,
   "metadata": {},
   "outputs": [],
   "source": [
    "#convert DatasetDict to DataFrame\n",
    "datasets_to_combine = [dataset[split] for split in dataset.keys()]\n",
    "combined_dataset = concatenate_datasets(datasets_to_combine)\n",
    "df = combined_dataset.to_pandas()"
   ]
  },
  {
   "cell_type": "code",
   "execution_count": 23,
   "metadata": {},
   "outputs": [
    {
     "data": {
      "text/html": [
       "<div>\n",
       "<style scoped>\n",
       "    .dataframe tbody tr th:only-of-type {\n",
       "        vertical-align: middle;\n",
       "    }\n",
       "\n",
       "    .dataframe tbody tr th {\n",
       "        vertical-align: top;\n",
       "    }\n",
       "\n",
       "    .dataframe thead th {\n",
       "        text-align: right;\n",
       "    }\n",
       "</style>\n",
       "<table border=\"1\" class=\"dataframe\">\n",
       "  <thead>\n",
       "    <tr style=\"text-align: right;\">\n",
       "      <th></th>\n",
       "      <th>date</th>\n",
       "      <th>id</th>\n",
       "      <th>username</th>\n",
       "      <th>text</th>\n",
       "      <th>party</th>\n",
       "      <th>labels</th>\n",
       "      <th>embeddings</th>\n",
       "    </tr>\n",
       "  </thead>\n",
       "  <tbody>\n",
       "    <tr>\n",
       "      <th>0</th>\n",
       "      <td>2021-10-13 19:47:44</td>\n",
       "      <td>1448374915636383745</td>\n",
       "      <td>SenatorHassan</td>\n",
       "      <td>Happy th birthday to the @USNavy! The strength...</td>\n",
       "      <td>Democrat</td>\n",
       "      <td>1</td>\n",
       "      <td>[-0.026915843, 0.087234065, 0.018707331, -0.03...</td>\n",
       "    </tr>\n",
       "    <tr>\n",
       "      <th>1</th>\n",
       "      <td>2021-06-30 14:53:13</td>\n",
       "      <td>1410250073003462656</td>\n",
       "      <td>SenatorMenendez</td>\n",
       "      <td>The greatest generation's investment in infras...</td>\n",
       "      <td>Democrat</td>\n",
       "      <td>1</td>\n",
       "      <td>[0.024044158, -0.0048382296, 0.09699756, -0.03...</td>\n",
       "    </tr>\n",
       "    <tr>\n",
       "      <th>2</th>\n",
       "      <td>2021-08-08 01:11:29</td>\n",
       "      <td>1424176405881966599</td>\n",
       "      <td>SenBillCassidy</td>\n",
       "      <td>Thanks to @SenTedCruz and  @SenatorWarnock, th...</td>\n",
       "      <td>Republican</td>\n",
       "      <td>0</td>\n",
       "      <td>[-0.002620128, -0.042515174, 0.065084696, 0.01...</td>\n",
       "    </tr>\n",
       "    <tr>\n",
       "      <th>3</th>\n",
       "      <td>2021-04-14 14:02:49</td>\n",
       "      <td>1382333523567185921</td>\n",
       "      <td>SenBlumenthal</td>\n",
       "      <td>/ To get lasting change we cant just lock up t...</td>\n",
       "      <td>Democrat</td>\n",
       "      <td>1</td>\n",
       "      <td>[-0.045103785, 0.0762336, -0.011798679, -0.044...</td>\n",
       "    </tr>\n",
       "    <tr>\n",
       "      <th>4</th>\n",
       "      <td>2021-12-11 16:06:38</td>\n",
       "      <td>1469700160934621188</td>\n",
       "      <td>SenatorBraun</td>\n",
       "      <td>Today were celebrating years of the Hoosier st...</td>\n",
       "      <td>Republican</td>\n",
       "      <td>0</td>\n",
       "      <td>[-0.038810886, 0.11611319, 0.06621017, -0.0184...</td>\n",
       "    </tr>\n",
       "    <tr>\n",
       "      <th>...</th>\n",
       "      <td>...</td>\n",
       "      <td>...</td>\n",
       "      <td>...</td>\n",
       "      <td>...</td>\n",
       "      <td>...</td>\n",
       "      <td>...</td>\n",
       "      <td>...</td>\n",
       "    </tr>\n",
       "    <tr>\n",
       "      <th>99688</th>\n",
       "      <td>2021-11-09 18:39:29</td>\n",
       "      <td>1458142213574049797</td>\n",
       "      <td>SenatorWicker</td>\n",
       "      <td>The world is a more dangerous place than ever ...</td>\n",
       "      <td>Republican</td>\n",
       "      <td>0</td>\n",
       "      <td>[0.06120153, -0.009898015, 0.044701263, 0.0103...</td>\n",
       "    </tr>\n",
       "    <tr>\n",
       "      <th>99689</th>\n",
       "      <td>2021-04-02 15:54:50</td>\n",
       "      <td>1378013060816855041</td>\n",
       "      <td>SenRickScott</td>\n",
       "      <td>Great news from @MyFWC: This weekend, Florida ...</td>\n",
       "      <td>Republican</td>\n",
       "      <td>0</td>\n",
       "      <td>[0.00034493094, 0.008543573, 0.061530214, -0.0...</td>\n",
       "    </tr>\n",
       "    <tr>\n",
       "      <th>99690</th>\n",
       "      <td>2021-10-14 15:39:01</td>\n",
       "      <td>1448674715711807497</td>\n",
       "      <td>RogerMarshallMD</td>\n",
       "      <td>Driving through Kansas, you cant help but noti...</td>\n",
       "      <td>Republican</td>\n",
       "      <td>0</td>\n",
       "      <td>[0.031099945, 0.00020814339, 0.06814072, 0.061...</td>\n",
       "    </tr>\n",
       "    <tr>\n",
       "      <th>99691</th>\n",
       "      <td>2021-06-01 22:37:46</td>\n",
       "      <td>1399857734447677441</td>\n",
       "      <td>SenMarkey</td>\n",
       "      <td>I stand with the workers of Pavement Coffee an...</td>\n",
       "      <td>Democrat</td>\n",
       "      <td>1</td>\n",
       "      <td>[-0.0664301, 0.042548176, 0.07595737, 0.075365...</td>\n",
       "    </tr>\n",
       "    <tr>\n",
       "      <th>99692</th>\n",
       "      <td>2021-12-16 15:21:41</td>\n",
       "      <td>1471500788417531914</td>\n",
       "      <td>MarshaBlackburn</td>\n",
       "      <td>Multiple people in New York were arrested this...</td>\n",
       "      <td>Republican</td>\n",
       "      <td>0</td>\n",
       "      <td>[0.00044392838, -0.015023432, -0.015710242, -0...</td>\n",
       "    </tr>\n",
       "  </tbody>\n",
       "</table>\n",
       "<p>99693 rows × 7 columns</p>\n",
       "</div>"
      ],
      "text/plain": [
       "                      date                   id         username  \\\n",
       "0      2021-10-13 19:47:44  1448374915636383745    SenatorHassan   \n",
       "1      2021-06-30 14:53:13  1410250073003462656  SenatorMenendez   \n",
       "2      2021-08-08 01:11:29  1424176405881966599   SenBillCassidy   \n",
       "3      2021-04-14 14:02:49  1382333523567185921    SenBlumenthal   \n",
       "4      2021-12-11 16:06:38  1469700160934621188     SenatorBraun   \n",
       "...                    ...                  ...              ...   \n",
       "99688  2021-11-09 18:39:29  1458142213574049797    SenatorWicker   \n",
       "99689  2021-04-02 15:54:50  1378013060816855041     SenRickScott   \n",
       "99690  2021-10-14 15:39:01  1448674715711807497  RogerMarshallMD   \n",
       "99691  2021-06-01 22:37:46  1399857734447677441        SenMarkey   \n",
       "99692  2021-12-16 15:21:41  1471500788417531914  MarshaBlackburn   \n",
       "\n",
       "                                                    text       party  labels  \\\n",
       "0      Happy th birthday to the @USNavy! The strength...    Democrat       1   \n",
       "1      The greatest generation's investment in infras...    Democrat       1   \n",
       "2      Thanks to @SenTedCruz and  @SenatorWarnock, th...  Republican       0   \n",
       "3      / To get lasting change we cant just lock up t...    Democrat       1   \n",
       "4      Today were celebrating years of the Hoosier st...  Republican       0   \n",
       "...                                                  ...         ...     ...   \n",
       "99688  The world is a more dangerous place than ever ...  Republican       0   \n",
       "99689  Great news from @MyFWC: This weekend, Florida ...  Republican       0   \n",
       "99690  Driving through Kansas, you cant help but noti...  Republican       0   \n",
       "99691  I stand with the workers of Pavement Coffee an...    Democrat       1   \n",
       "99692  Multiple people in New York were arrested this...  Republican       0   \n",
       "\n",
       "                                              embeddings  \n",
       "0      [-0.026915843, 0.087234065, 0.018707331, -0.03...  \n",
       "1      [0.024044158, -0.0048382296, 0.09699756, -0.03...  \n",
       "2      [-0.002620128, -0.042515174, 0.065084696, 0.01...  \n",
       "3      [-0.045103785, 0.0762336, -0.011798679, -0.044...  \n",
       "4      [-0.038810886, 0.11611319, 0.06621017, -0.0184...  \n",
       "...                                                  ...  \n",
       "99688  [0.06120153, -0.009898015, 0.044701263, 0.0103...  \n",
       "99689  [0.00034493094, 0.008543573, 0.061530214, -0.0...  \n",
       "99690  [0.031099945, 0.00020814339, 0.06814072, 0.061...  \n",
       "99691  [-0.0664301, 0.042548176, 0.07595737, 0.075365...  \n",
       "99692  [0.00044392838, -0.015023432, -0.015710242, -0...  \n",
       "\n",
       "[99693 rows x 7 columns]"
      ]
     },
     "execution_count": 23,
     "metadata": {},
     "output_type": "execute_result"
    }
   ],
   "source": [
    "df"
   ]
  },
  {
   "cell_type": "markdown",
   "metadata": {},
   "source": [
    "# Find number of senators and mentions"
   ]
  },
  {
   "cell_type": "code",
   "execution_count": 15,
   "metadata": {},
   "outputs": [
    {
     "name": "stdout",
     "output_type": "stream",
     "text": [
      "Number of senators: 99\n",
      "Number of valid mentions: 4744\n"
     ]
    }
   ],
   "source": [
    "unique_usernames = set(df['username'].unique())\n",
    "\n",
    "valid_mentions_count = 0\n",
    "for index, row in df.iterrows():\n",
    "    text = row['text']\n",
    "    tokens = text.split('@')[1:]\n",
    "    for token in tokens:\n",
    "        potential_username = token.split()[0] if ' ' in token else token\n",
    "        if potential_username in unique_usernames:\n",
    "            valid_mentions_count += 1\n",
    "\n",
    "print(f\"Number of senators: {len(unique_usernames)}\")\n",
    "print(f\"Number of valid mentions: {valid_mentions_count}\")"
   ]
  },
  {
   "cell_type": "markdown",
   "metadata": {},
   "source": [
    "# Build Network"
   ]
  },
  {
   "cell_type": "code",
   "execution_count": 16,
   "metadata": {},
   "outputs": [],
   "source": [
    "G = nx.Graph()\n",
    "edges = defaultdict(int)\n",
    "\n",
    "for index, row in df.iterrows():\n",
    "    sender = row['username']\n",
    "    text = row['text']\n",
    "    unique_usernames = set(df['username'].unique())\n",
    "    \n",
    "    tokens = text.split('@')[1:] \n",
    "    \n",
    "    for token in tokens:\n",
    "        potential_username = token.split()[0] if ' ' in token else token\n",
    "        if potential_username in unique_usernames and potential_username != sender:\n",
    "            edge = tuple(sorted((sender, potential_username)))\n",
    "            edges[edge] += 1\n",
    "\n",
    "for (source, target), weight in edges.items():\n",
    "    G.add_edge(source, target, weight=weight)"
   ]
  },
  {
   "cell_type": "code",
   "execution_count": 24,
   "metadata": {},
   "outputs": [],
   "source": [
    "#add party attribute\n",
    "for node in G.nodes:\n",
    "    party = df[df['username'] == node]['party'].values[0]\n",
    "    G.nodes[node]['party'] = party"
   ]
  },
  {
   "cell_type": "code",
   "execution_count": 25,
   "metadata": {},
   "outputs": [
    {
     "name": "stdout",
     "output_type": "stream",
     "text": [
      "99 1608\n"
     ]
    }
   ],
   "source": [
    "num_nodes = G.number_of_nodes()\n",
    "num_edges = G.number_of_edges()\n",
    "print(num_nodes, num_edges)"
   ]
  },
  {
   "cell_type": "code",
   "execution_count": 30,
   "metadata": {},
   "outputs": [
    {
     "name": "stdout",
     "output_type": "stream",
     "text": [
      "Democrat\n"
     ]
    }
   ],
   "source": [
    "print(G.nodes['SenSchumer']['party'])"
   ]
  },
  {
   "cell_type": "code",
   "execution_count": null,
   "metadata": {},
   "outputs": [],
   "source": []
  }
 ],
 "metadata": {
  "kernelspec": {
   "display_name": "markDD",
   "language": "python",
   "name": "markdd"
  },
  "language_info": {
   "codemirror_mode": {
    "name": "ipython",
    "version": 3
   },
   "file_extension": ".py",
   "mimetype": "text/x-python",
   "name": "python",
   "nbconvert_exporter": "python",
   "pygments_lexer": "ipython3",
   "version": "3.10.12"
  }
 },
 "nbformat": 4,
 "nbformat_minor": 2
}
